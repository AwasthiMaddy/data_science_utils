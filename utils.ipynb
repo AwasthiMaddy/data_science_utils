{
 "cells": [
  {
   "cell_type": "code",
   "execution_count": 1,
   "metadata": {
    "collapsed": true
   },
   "outputs": [],
   "source": [
    "import pandas as pd\n",
    "import numpy as np\n",
    "import matplotlib.pyplot as plt\n",
    "import seaborn as sns\n",
    "import os\n",
    "import zipfile\n",
    "import zlib\n",
    "import time"
   ]
  },
  {
   "cell_type": "markdown",
   "metadata": {},
   "source": [
    "**EDA Functions**"
   ]
  },
  {
   "cell_type": "code",
   "execution_count": 8,
   "metadata": {
    "collapsed": true
   },
   "outputs": [],
   "source": [
    "def findMissing(aSeries):\n",
    "    \"\"\"\n",
    "    Gives total, non-missing, missing & percentage of missing observations in a pandas series.\n",
    "    \n",
    "    Parameters\n",
    "    ----------\n",
    "    aSeries : Pandas Series\n",
    "    \n",
    "    Returns\n",
    "    -------\n",
    "    missingList : List with 1st element denotes total number of observations in a series.\n",
    "                  2nd element denotes total non-missing observations.\n",
    "                  3rd element denotes total missing observations.\n",
    "                  4th element denotes percentage of missing observations.\n",
    "    \"\"\"\n",
    "    missingObs = aSeries.isnull().sum()\n",
    "    nonMissingObs = aSeries.count()\n",
    "    totalObs = len(aSeries)\n",
    "    percentageMissing = round((float(missingObs) / float(totalObs) * 100),2)\n",
    "    missingList = [totalObs,nonMissingObs,missingObs,percentageMissing]\n",
    "    return missingList"
   ]
  },
  {
   "cell_type": "code",
   "execution_count": 1,
   "metadata": {
    "collapsed": true
   },
   "outputs": [],
   "source": [
    "def total_days_till_today(last_date):\n",
    "    '''\n",
    "    \n",
    "    '''\n",
    "    return (pd.to_datetime('today') - last_date).days"
   ]
  },
  {
   "cell_type": "code",
   "execution_count": 2,
   "metadata": {
    "collapsed": true
   },
   "outputs": [],
   "source": [
    "def wavg(sub1, sub2, weights, id_col, outcome_col):\n",
    "    '''\n",
    "    \n",
    "    '''\n",
    "    merged_sub = sub1.merge(sub2, on=[id_col], how='left', suffixes=['_sub1','_sub2'])\n",
    "    merged_sub[outcome_col] = (weights[0] * merged_sub[outcome_col+'_sub1'] + weights[1] * merged_sub[outcome_col+'_sub2'])\n",
    "    return merged_sub[[id_col,outcome_col]]"
   ]
  },
  {
   "cell_type": "code",
   "execution_count": null,
   "metadata": {
    "collapsed": true
   },
   "outputs": [],
   "source": [
    "def convert_dates(date):\n",
    "    '''\n",
    "    Converts date of type 01-Jan-17 into datetime object.\n",
    "    '''\n",
    "    return datetime.strptime(date, '%d-%b-%y')"
   ]
  },
  {
   "cell_type": "code",
   "execution_count": null,
   "metadata": {
    "collapsed": true
   },
   "outputs": [],
   "source": [
    "def read_train_test(dirPath):\n",
    "    '''\n",
    "    Reads train & test zip files.\n",
    "    Function specific to reading data of Kaggle Competitions.\n",
    "    \n",
    "    Parameters\n",
    "    ----------\n",
    "    dirPath: string. Directory Path which has train, test, sample_submission files.\n",
    "    \n",
    "    Returns\n",
    "    -------\n",
    "    train: pandas dataframe. Train loaded into pd df.\n",
    "    test: pandas dataframe. Test loaded into pd df.\n",
    "    sample_submission: pandas dataframe. sample_submission loaded into pd df.\n",
    "    '''\n",
    "    train = pd.read_csv(os.path.join(dirPath, 'train.csv.zip'))\n",
    "    test = pd.read_csv(os.path.join(dirPath, 'test.csv.zip'))\n",
    "    sample_submission = pd.read_csv(os.path.join(dirPath, 'sample_submission.csv.zip'))\n",
    "    return train, test, sample_submission"
   ]
  },
  {
   "cell_type": "code",
   "execution_count": null,
   "metadata": {
    "collapsed": true
   },
   "outputs": [],
   "source": [
    "def create_combined_df(train, test):\n",
    "    '''\n",
    "    Creates combined dataframe from train & test dataframes.\n",
    "    Basically concats train & test dataframes.\n",
    "    \n",
    "    Parameters\n",
    "    -----------\n",
    "    train : a pandas DataFrame.\n",
    "    test : a pandas DataFrame.\n",
    "    \n",
    "    Returns\n",
    "    --------\n",
    "    combined_df : concated pandas dataframe.\n",
    "    '''\n",
    "    train['train_or_test'] = 'train'\n",
    "    test['train_or_test'] = 'test'\n",
    "    combined_df = pd.concat([train,test])\n",
    "    return combined_df"
   ]
  },
  {
   "cell_type": "code",
   "execution_count": null,
   "metadata": {
    "collapsed": true
   },
   "outputs": [],
   "source": [
    "def time_elapsed(t0):\n",
    "    return (time.time()-t0)/60"
   ]
  },
  {
   "cell_type": "markdown",
   "metadata": {},
   "source": [
    "**Visualization Functions**"
   ]
  },
  {
   "cell_type": "code",
   "execution_count": 9,
   "metadata": {
    "collapsed": true
   },
   "outputs": [],
   "source": [
    "def countplot(feat,df,figsize,rot):\n",
    "    '''\n",
    "    Creates a countplot of seaborn library with given specifications about the plot.\n",
    "    \n",
    "    Parameters\n",
    "    ----------\n",
    "    feat: string. Feature name whose countplot is to be generated.\n",
    "    df: Pandas dataframe. \n",
    "    figsize: a tuple. Figure size (Breadth, Length). Like (15,5)\n",
    "    rot: string. Rotation of xticks in plot. Only takes 'horizontal' or 'vertical'\n",
    "    \n",
    "    Returns\n",
    "    -------\n",
    "    None   \n",
    "    '''\n",
    "    plt.figure(figsize=figsize)\n",
    "    plt.xticks(rotation=rot)\n",
    "    sns.countplot(x=feat,data=df)"
   ]
  },
  {
   "cell_type": "markdown",
   "metadata": {},
   "source": [
    "**Other Functions**"
   ]
  },
  {
   "cell_type": "code",
   "execution_count": 10,
   "metadata": {
    "collapsed": true
   },
   "outputs": [],
   "source": [
    "def create_zip(path,fname,zipfname):\n",
    "    '''\n",
    "    Converts a file into zip file.\n",
    "    \n",
    "    Parameters\n",
    "    ----------\n",
    "    path: string. Path where file is located. This is the path of both file & zipped file.\n",
    "    fname: string. Name of file.\n",
    "    zipfname: string. Name that the zipped file should have.\n",
    "    \n",
    "    Returns\n",
    "    -------\n",
    "    None\n",
    "    '''\n",
    "    os.chdir(path)\n",
    "    print 'creating archive'\n",
    "    zf = zipfile.ZipFile(zipfname,mode='w')\n",
    "    try:\n",
    "        zf.write(fname, compress_type=zipfile.ZIP_DEFLATED)\n",
    "    finally:\n",
    "        zf.close()\n",
    "    print 'Completed creating archive'"
   ]
  },
  {
   "cell_type": "code",
   "execution_count": 11,
   "metadata": {
    "collapsed": true
   },
   "outputs": [],
   "source": [
    "def extract_from_zip(inputZipFilePath,outputDir):\n",
    "    '''\n",
    "    Extracts a file from its zip file.\n",
    "    \n",
    "    Parameters\n",
    "    ----------\n",
    "    inputZipFilePath: string. Whole path with file name of the zipped file.\n",
    "    outputDir: string. Path of the directory in which the zip file should be unzipped.\n",
    "    \n",
    "    Returns\n",
    "    -------\n",
    "    None\n",
    "    '''\n",
    "    zip_ref = zipfile.ZipFile(inputZipFilePath,'r')\n",
    "    zip_ref.extractall(outputDir)\n",
    "    zip_ref.close()"
   ]
  },
  {
   "cell_type": "code",
   "execution_count": null,
   "metadata": {
    "collapsed": true
   },
   "outputs": [],
   "source": []
  }
 ],
 "metadata": {
  "anaconda-cloud": {},
  "kernelspec": {
   "display_name": "Python [Root]",
   "language": "python",
   "name": "Python [Root]"
  },
  "language_info": {
   "codemirror_mode": {
    "name": "ipython",
    "version": 2
   },
   "file_extension": ".py",
   "mimetype": "text/x-python",
   "name": "python",
   "nbconvert_exporter": "python",
   "pygments_lexer": "ipython2",
   "version": "2.7.11"
  }
 },
 "nbformat": 4,
 "nbformat_minor": 0
}
